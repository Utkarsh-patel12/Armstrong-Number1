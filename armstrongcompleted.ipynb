{
 "cells": [
  {
   "cell_type": "code",
   "execution_count": 1,
   "id": "402347a4-96fb-4c1b-8206-574db6f82663",
   "metadata": {},
   "outputs": [
    {
     "name": "stdin",
     "output_type": "stream",
     "text": [
      "enter a number 407\n"
     ]
    },
    {
     "name": "stdout",
     "output_type": "stream",
     "text": [
      "it is armstrong\n"
     ]
    }
   ],
   "source": [
    "a=(input('enter a number'))\n",
    "e=int(a)\n",
    "d=0\n",
    "z=len(a)\n",
    "for i in str(a):\n",
    "    b=int(i)\n",
    "    c=b**z\n",
    "    d=d+c\n",
    "if d==e:\n",
    "    print('it is armstrong')\n",
    "else:\n",
    "    print('it is not')"
   ]
  },
  {
   "cell_type": "code",
   "execution_count": null,
   "id": "927b4404-a6dc-43f9-a3c6-796fce757aa0",
   "metadata": {},
   "outputs": [],
   "source": []
  },
  {
   "cell_type": "code",
   "execution_count": null,
   "id": "f1945aaf-16e3-49b6-a934-19c60983025e",
   "metadata": {},
   "outputs": [],
   "source": []
  }
 ],
 "metadata": {
  "kernelspec": {
   "display_name": "Python 3 (ipykernel)",
   "language": "python",
   "name": "python3"
  },
  "language_info": {
   "codemirror_mode": {
    "name": "ipython",
    "version": 3
   },
   "file_extension": ".py",
   "mimetype": "text/x-python",
   "name": "python",
   "nbconvert_exporter": "python",
   "pygments_lexer": "ipython3",
   "version": "3.12.1"
  }
 },
 "nbformat": 4,
 "nbformat_minor": 5
}
